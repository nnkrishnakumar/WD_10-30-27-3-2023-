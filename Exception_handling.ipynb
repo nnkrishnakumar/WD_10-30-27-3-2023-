{
 "cells": [
  {
   "cell_type": "code",
   "execution_count": 1,
   "id": "4dedee8d-75c4-4be8-ac2e-8531def5708b",
   "metadata": {},
   "outputs": [],
   "source": [
    "# Error are  of two types:\n",
    "# > compile time error\n",
    "#     > \n",
    "# > runtime error "
   ]
  },
  {
   "cell_type": "code",
   "execution_count": 2,
   "id": "200f2076-ef64-46ef-9956-7d591e613d92",
   "metadata": {},
   "outputs": [
    {
     "ename": "SyntaxError",
     "evalue": "unterminated string literal (detected at line 1) (3133449829.py, line 1)",
     "output_type": "error",
     "traceback": [
      "\u001b[1;36m  Cell \u001b[1;32mIn[2], line 1\u001b[1;36m\u001b[0m\n\u001b[1;33m    print(\"hello world)\u001b[0m\n\u001b[1;37m          ^\u001b[0m\n\u001b[1;31mSyntaxError\u001b[0m\u001b[1;31m:\u001b[0m unterminated string literal (detected at line 1)\n"
     ]
    }
   ],
   "source": [
    "print(\"hello world)"
   ]
  },
  {
   "cell_type": "code",
   "execution_count": 4,
   "id": "e1e2e071-b073-499f-92b5-b0cc92cd70c3",
   "metadata": {},
   "outputs": [
    {
     "name": "stdout",
     "output_type": "stream",
     "text": [
      "Enter your number >  10\n"
     ]
    },
    {
     "ename": "ZeroDivisionError",
     "evalue": "division by zero",
     "output_type": "error",
     "traceback": [
      "\u001b[1;31m---------------------------------------------------------------------------\u001b[0m",
      "\u001b[1;31mZeroDivisionError\u001b[0m                         Traceback (most recent call last)",
      "Cell \u001b[1;32mIn[4], line 3\u001b[0m\n\u001b[0;32m      1\u001b[0m \u001b[38;5;66;03m# example of runtime error \u001b[39;00m\n\u001b[0;32m      2\u001b[0m a\u001b[38;5;241m=\u001b[39m\u001b[38;5;28mint\u001b[39m(\u001b[38;5;28minput\u001b[39m(\u001b[38;5;124m\"\u001b[39m\u001b[38;5;124mEnter your number > \u001b[39m\u001b[38;5;124m\"\u001b[39m))\n\u001b[1;32m----> 3\u001b[0m \u001b[38;5;28mprint\u001b[39m(\u001b[43ma\u001b[49m\u001b[38;5;241;43m/\u001b[39;49m\u001b[38;5;241;43m0\u001b[39;49m)\n\u001b[0;32m      4\u001b[0m \u001b[38;5;28mprint\u001b[39m(\u001b[38;5;124m\"\u001b[39m\u001b[38;5;124mhello world\u001b[39m\u001b[38;5;124m\"\u001b[39m)\n",
      "\u001b[1;31mZeroDivisionError\u001b[0m: division by zero"
     ]
    }
   ],
   "source": [
    "# example of runtime error \n",
    "a=int(input(\"Enter your number > \"))\n",
    "print(a/0)\n",
    "print(\"hello world\")"
   ]
  },
  {
   "cell_type": "code",
   "execution_count": 6,
   "id": "bcbf2e5c-aa61-4a9b-ba45-9221330dea1c",
   "metadata": {},
   "outputs": [
    {
     "name": "stdout",
     "output_type": "stream",
     "text": [
      "Enter your number >  455\n"
     ]
    },
    {
     "name": "stdout",
     "output_type": "stream",
     "text": [
      "None of the value divisible by 0\n",
      "hello world\n"
     ]
    }
   ],
   "source": [
    "try:\n",
    "    a=int(input(\"Enter your number > \"))\n",
    "    print(a/0)\n",
    "except:\n",
    "    print(\"None of the value divisible by 0\")\n",
    "print(\"hello world\")    "
   ]
  },
  {
   "cell_type": "code",
   "execution_count": 12,
   "id": "9a1a1023-50bd-4e78-b94e-3a2dc37286a1",
   "metadata": {},
   "outputs": [
    {
     "name": "stdout",
     "output_type": "stream",
     "text": [
      "Enter your number >  054\n"
     ]
    },
    {
     "name": "stdout",
     "output_type": "stream",
     "text": [
      "None of the value divisible by 0 division by zero\n",
      "hello world\n"
     ]
    }
   ],
   "source": [
    "try:\n",
    "    a=int(input(\"Enter your number > \"))\n",
    "    print(a/0)\n",
    "except ZeroDivisionError as e:\n",
    "    print(\"None of the value divisible by 0\",e)\n",
    "print(\"hello world\")    "
   ]
  },
  {
   "cell_type": "code",
   "execution_count": 7,
   "id": "199cb0ca-d7ad-499f-ac4e-e4bca390666e",
   "metadata": {},
   "outputs": [],
   "source": [
    "a=10"
   ]
  },
  {
   "cell_type": "code",
   "execution_count": 8,
   "id": "c585fcfd-d56f-4307-8a2d-8761a13e9fea",
   "metadata": {},
   "outputs": [
    {
     "name": "stdout",
     "output_type": "stream",
     "text": [
      "<class 'int'>\n"
     ]
    }
   ],
   "source": [
    "print(type(a))"
   ]
  },
  {
   "cell_type": "code",
   "execution_count": 13,
   "id": "dfde5315-a10d-44fc-8c18-6851512e031c",
   "metadata": {},
   "outputs": [
    {
     "ename": "ValueError",
     "evalue": "invalid literal for int() with base 10: '10.0'",
     "output_type": "error",
     "traceback": [
      "\u001b[1;31m---------------------------------------------------------------------------\u001b[0m",
      "\u001b[1;31mValueError\u001b[0m                                Traceback (most recent call last)",
      "Cell \u001b[1;32mIn[13], line 2\u001b[0m\n\u001b[0;32m      1\u001b[0m a\u001b[38;5;241m=\u001b[39m\u001b[38;5;124m\"\u001b[39m\u001b[38;5;124m10.0\u001b[39m\u001b[38;5;124m\"\u001b[39m\n\u001b[1;32m----> 2\u001b[0m \u001b[38;5;28;43mint\u001b[39;49m\u001b[43m(\u001b[49m\u001b[43ma\u001b[49m\u001b[43m)\u001b[49m\n",
      "\u001b[1;31mValueError\u001b[0m: invalid literal for int() with base 10: '10.0'"
     ]
    }
   ],
   "source": [
    "a=\"10.0\"\n",
    "int(a)"
   ]
  },
  {
   "cell_type": "code",
   "execution_count": 14,
   "id": "65be4a06-26eb-484b-ad72-9290f26cb06f",
   "metadata": {},
   "outputs": [
    {
     "name": "stdout",
     "output_type": "stream",
     "text": [
      "Enter your number >  10.0\n"
     ]
    },
    {
     "ename": "ValueError",
     "evalue": "invalid literal for int() with base 10: '10.0'",
     "output_type": "error",
     "traceback": [
      "\u001b[1;31m---------------------------------------------------------------------------\u001b[0m",
      "\u001b[1;31mValueError\u001b[0m                                Traceback (most recent call last)",
      "Cell \u001b[1;32mIn[14], line 2\u001b[0m\n\u001b[0;32m      1\u001b[0m \u001b[38;5;28;01mtry\u001b[39;00m:\n\u001b[1;32m----> 2\u001b[0m     a\u001b[38;5;241m=\u001b[39m\u001b[38;5;28;43mint\u001b[39;49m\u001b[43m(\u001b[49m\u001b[38;5;28;43minput\u001b[39;49m\u001b[43m(\u001b[49m\u001b[38;5;124;43m\"\u001b[39;49m\u001b[38;5;124;43mEnter your number > \u001b[39;49m\u001b[38;5;124;43m\"\u001b[39;49m\u001b[43m)\u001b[49m\u001b[43m)\u001b[49m\n\u001b[0;32m      3\u001b[0m \u001b[38;5;28;01mexcept\u001b[39;00m \u001b[38;5;167;01mZeroDivisionError\u001b[39;00m \u001b[38;5;28;01mas\u001b[39;00m e:\n\u001b[0;32m      4\u001b[0m     \u001b[38;5;28mprint\u001b[39m(\u001b[38;5;124m\"\u001b[39m\u001b[38;5;124mNone of the value divisible by 0\u001b[39m\u001b[38;5;124m\"\u001b[39m,e)\n",
      "\u001b[1;31mValueError\u001b[0m: invalid literal for int() with base 10: '10.0'"
     ]
    }
   ],
   "source": [
    "try:\n",
    "    a=int(input(\"Enter your number > \"))\n",
    "except ZeroDivisionError as e:\n",
    "    print(\"None of the value divisible by 0\",e)\n",
    "print(\"hello world\")  "
   ]
  },
  {
   "cell_type": "code",
   "execution_count": 18,
   "id": "2853f953-5831-4bfd-8ac8-6550f01af922",
   "metadata": {},
   "outputs": [
    {
     "name": "stdout",
     "output_type": "stream",
     "text": [
      "Enter your number >  krishna\n"
     ]
    },
    {
     "name": "stdout",
     "output_type": "stream",
     "text": [
      "string cannot convert into int\n",
      "hello world\n"
     ]
    }
   ],
   "source": [
    "try:\n",
    "    a=int(input(\"Enter your number > \"))\n",
    "except ZeroDivisionError as e:\n",
    "    print(\"None of the value divisible by 0\",e)\n",
    "except ValueError:\n",
    "    print(\"string cannot convert into int\")\n",
    "finally:\n",
    "    print(\"hello world\")  "
   ]
  },
  {
   "cell_type": "code",
   "execution_count": 17,
   "id": "ec041185-8e18-460a-a558-f6ad6cfa3083",
   "metadata": {},
   "outputs": [
    {
     "name": "stdout",
     "output_type": "stream",
     "text": [
      "Enter your number >  10.55\n"
     ]
    },
    {
     "name": "stdout",
     "output_type": "stream",
     "text": [
      "out of service\n",
      "hello world\n"
     ]
    }
   ],
   "source": [
    "try:\n",
    "    a=int(input(\"Enter your number > \"))\n",
    "except Exception:\n",
    "    print(\"out of service\")\n",
    "print(\"hello world\")  "
   ]
  },
  {
   "cell_type": "code",
   "execution_count": 20,
   "id": "6364f21c-2e2a-47e2-8ff4-3901de4901d8",
   "metadata": {},
   "outputs": [
    {
     "name": "stdout",
     "output_type": "stream",
     "text": [
      "Enter your number >  10\n"
     ]
    },
    {
     "name": "stdout",
     "output_type": "stream",
     "text": [
      "welcome to kotak mahindra bank\n"
     ]
    }
   ],
   "source": [
    "try:\n",
    "    a=int(input(\"Enter your number > \"))\n",
    "except ZeroDivisionError as e:\n",
    "    print(\"None of the value divisible by 0\",e)\n",
    "except ValueError:\n",
    "    print(\"string cannot convert into int\")\n",
    "else:\n",
    "    print(\"welcome to kotak mahindra bank\")\n"
   ]
  },
  {
   "cell_type": "code",
   "execution_count": 21,
   "id": "4242d1c5-2aa8-46c3-b152-a2af2d82aa72",
   "metadata": {},
   "outputs": [
    {
     "name": "stdout",
     "output_type": "stream",
     "text": [
      "Enter your number >  10.0\n"
     ]
    },
    {
     "name": "stdout",
     "output_type": "stream",
     "text": [
      "string cannot convert into int\n"
     ]
    }
   ],
   "source": [
    "try:\n",
    "    a=int(input(\"Enter your number > \"))\n",
    "except ZeroDivisionError as e:\n",
    "    print(\"None of the value divisible by 0\",e)\n",
    "except ValueError:\n",
    "    print(\"string cannot convert into int\")\n",
    "else:\n",
    "    print(\"welcome to kotak mahindra bank\")"
   ]
  },
  {
   "cell_type": "code",
   "execution_count": 2,
   "id": "d33ed10e-cf6e-4a87-ab8d-48fde298a19c",
   "metadata": {},
   "outputs": [
    {
     "name": "stdout",
     "output_type": "stream",
     "text": [
      "welcome to kotak mahindra bank\n"
     ]
    }
   ],
   "source": [
    "try:\n",
    "    a=int(input(\"Enter your number > \"))\n",
    "    if a==10:\n",
    "        raise Exception(\"this is an error \")\n",
    "except ZeroDivisionError as e:\n",
    "    print(\"None of the value divisible by 0\",e)\n",
    "except ValueError:\n",
    "    print(\"string cannot convert into int\")\n",
    "except Exception as e:\n",
    "    print(e)\n",
    "else:\n",
    "    print(\"welcome to kotak mahindra bank\")"
   ]
  },
  {
   "cell_type": "code",
   "execution_count": 5,
   "id": "04a5f95c-d982-4ff1-8dd1-6114cde27970",
   "metadata": {},
   "outputs": [
    {
     "name": "stdout",
     "output_type": "stream",
     "text": [
      "welcome to kotak mahindra bank\n",
      "bye bye\n"
     ]
    }
   ],
   "source": [
    "try:\n",
    "    a=int(input(\"Enter your number > \"))\n",
    "    if a==10:\n",
    "        raise Exception(\"this is an error \")\n",
    "except ZeroDivisionError as e:\n",
    "    print(\"None of the value divisible by 0\",e)\n",
    "except ValueError:\n",
    "    print(\"string cannot convert into int\")\n",
    "except Exception as e:\n",
    "    print(e)\n",
    "else:\n",
    "    print(\"welcome to kotak mahindra bank\")\n",
    "finally:\n",
    "    print(\"bye bye\")"
   ]
  },
  {
   "cell_type": "code",
   "execution_count": null,
   "id": "f452114f",
   "metadata": {},
   "outputs": [],
   "source": []
  }
 ],
 "metadata": {
  "kernelspec": {
   "display_name": "Python 3 (ipykernel)",
   "language": "python",
   "name": "python3"
  },
  "language_info": {
   "codemirror_mode": {
    "name": "ipython",
    "version": 3
   },
   "file_extension": ".py",
   "mimetype": "text/x-python",
   "name": "python",
   "nbconvert_exporter": "python",
   "pygments_lexer": "ipython3",
   "version": "3.11.3"
  }
 },
 "nbformat": 4,
 "nbformat_minor": 5
}
