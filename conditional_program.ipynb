{
 "cells": [
  {
   "cell_type": "code",
   "execution_count": 1,
   "metadata": {},
   "outputs": [],
   "source": [
    "# 14. conditional programming \n",
    "#     > if else\n",
    "#     > if elif else\n",
    "#     > nested if else\n",
    "#     > nested if elif else"
   ]
  },
  {
   "cell_type": "code",
   "execution_count": 2,
   "metadata": {},
   "outputs": [
    {
     "name": "stdout",
     "output_type": "stream",
     "text": [
      "30\n"
     ]
    }
   ],
   "source": [
    "a=eval(input(\"Kindly enter a number :\"))\n",
    "b=eval(input(\"Kindly enter one more number :\"))\n",
    "print(a+b)"
   ]
  },
  {
   "cell_type": "code",
   "execution_count": 19,
   "metadata": {},
   "outputs": [
    {
     "ename": "IndentationError",
     "evalue": "unexpected indent (2747810220.py, line 7)",
     "output_type": "error",
     "traceback": [
      "\u001b[1;36m  Cell \u001b[1;32mIn[19], line 7\u001b[1;36m\u001b[0m\n\u001b[1;33m    print(\"hello world\")\u001b[0m\n\u001b[1;37m    ^\u001b[0m\n\u001b[1;31mIndentationError\u001b[0m\u001b[1;31m:\u001b[0m unexpected indent\n"
     ]
    }
   ],
   "source": [
    "a=eval(input(\"Kindly enter a number :\"))\n",
    "b=eval(input(\"Kindly enter one more number :\"))\n",
    "\n",
    "if a>b:\n",
    "    print(a-b)\n",
    "    print(\"hello world\")\n",
    "    print(\"hello world\")\n",
    "else:\n",
    "    print(b-a)"
   ]
  },
  {
   "cell_type": "code",
   "execution_count": 11,
   "metadata": {},
   "outputs": [
    {
     "name": "stdout",
     "output_type": "stream",
     "text": [
      "10\n"
     ]
    }
   ],
   "source": [
    "a=eval(input(\"Kindly enter a number :\"))\n",
    "b=eval(input(\"Kindly enter one more number :\"))\n",
    "\n",
    "if a>b:\n",
    "    pass\n",
    "else:\n",
    "    a,b=b,a\n",
    "\n",
    "print(a-b)"
   ]
  },
  {
   "cell_type": "code",
   "execution_count": 20,
   "metadata": {},
   "outputs": [
    {
     "name": "stdout",
     "output_type": "stream",
     "text": [
      "100\n"
     ]
    }
   ],
   "source": [
    "a=eval(input(\"Kindly enter a number :\"))\n",
    "b=eval(input(\"Kindly enter one more number :\"))\n",
    "\n",
    "if a>b:\n",
    "    print(a-b)\n",
    "elif a==b:\n",
    "    print(a*b)\n",
    "else:\n",
    "    print(b-a)"
   ]
  },
  {
   "cell_type": "code",
   "execution_count": null,
   "metadata": {},
   "outputs": [],
   "source": [
    "a=eval(input(\"Kindly enter a number :\"))\n",
    "b=eval(input(\"Kindly enter one more number :\"))\n",
    "\n",
    "if a>b:\n",
    "    print(a-b)\n",
    "elif a==b:\n",
    "    print(a*b)\n",
    "else:\n",
    "    print(b-a)"
   ]
  },
  {
   "cell_type": "code",
   "execution_count": null,
   "metadata": {},
   "outputs": [],
   "source": [
    "if a>b:\n",
    "    print(a-b)\n",
    "elif a==b:\n",
    "    print(a*b)\n",
    "else:\n",
    "    print(b-a)"
   ]
  },
  {
   "cell_type": "code",
   "execution_count": null,
   "metadata": {},
   "outputs": [],
   "source": [
    "a=eval(input(\"Kindly enter a number :\"))\n",
    "b=eval(input(\"Kindly enter one more number :\"))\n",
    "if a>b:\n",
    "    print(a-b)\n",
    "elif a==b:\n",
    "    print(a*b)\n",
    "else:\n",
    "    print(b-a)"
   ]
  },
  {
   "cell_type": "code",
   "execution_count": 1,
   "metadata": {},
   "outputs": [
    {
     "name": "stdout",
     "output_type": "stream",
     "text": [
      "hello\n"
     ]
    }
   ],
   "source": [
    "if 3>2:\n",
    "    print(\"hello\")\n",
    "else:\n",
    "    print(\"bye\")"
   ]
  },
  {
   "cell_type": "code",
   "execution_count": 6,
   "metadata": {},
   "outputs": [
    {
     "name": "stdout",
     "output_type": "stream",
     "text": [
      "hello\n",
      "I am not krishna\n"
     ]
    }
   ],
   "source": [
    "if 3>2:\n",
    "    print(\"hello\")\n",
    "    if 1<0:\n",
    "        print(\"I am krishna\")\n",
    "    else:\n",
    "        print(\"I am not krishna\")\n",
    "else:\n",
    "    print(\"bye\")"
   ]
  },
  {
   "cell_type": "code",
   "execution_count": 7,
   "metadata": {},
   "outputs": [
    {
     "name": "stdout",
     "output_type": "stream",
     "text": [
      "hello\n",
      "I am not krishna\n"
     ]
    }
   ],
   "source": [
    "if 3>2:\n",
    "    print(\"hello\")\n",
    "    if 1<0:\n",
    "        print(\"I am krishna\")\n",
    "    else:\n",
    "        print(\"I am not krishna\")\n",
    "else:\n",
    "    if 0==0:\n",
    "        print(\"bye\")\n",
    "    else:\n",
    "        print(\"good bye\")"
   ]
  },
  {
   "cell_type": "code",
   "execution_count": 8,
   "metadata": {},
   "outputs": [
    {
     "name": "stdout",
     "output_type": "stream",
     "text": [
      "bye\n"
     ]
    }
   ],
   "source": [
    "if 3<2:\n",
    "    print(\"hello\")\n",
    "    if 1<0:\n",
    "        print(\"I am krishna\")\n",
    "    else:\n",
    "        print(\"I am not krishna\")\n",
    "else:\n",
    "    if 0==0:\n",
    "        print(\"bye\")\n",
    "    else:\n",
    "        print(\"good bye\")"
   ]
  },
  {
   "cell_type": "code",
   "execution_count": 9,
   "metadata": {},
   "outputs": [
    {
     "name": "stdout",
     "output_type": "stream",
     "text": [
      "good bye\n"
     ]
    }
   ],
   "source": [
    "if 3<2:\n",
    "    print(\"hello\")\n",
    "    if 1<0:\n",
    "        print(\"I am krishna\")\n",
    "    else:\n",
    "        print(\"I am not krishna\")\n",
    "else:\n",
    "    if 0!=0:\n",
    "        print(\"bye\")\n",
    "    else:\n",
    "        print(\"good bye\")"
   ]
  },
  {
   "cell_type": "code",
   "execution_count": 10,
   "metadata": {},
   "outputs": [
    {
     "name": "stdout",
     "output_type": "stream",
     "text": [
      "hello\n",
      "I am not krishna\n"
     ]
    }
   ],
   "source": [
    "if \"krishna\"==\"krishna\":\n",
    "    print(\"hello\")\n",
    "    if 1<0:\n",
    "        print(\"I am krishna\")\n",
    "    else:\n",
    "        print(\"I am not krishna\")\n",
    "else:\n",
    "    if 0!=0:\n",
    "        print(\"bye\")\n",
    "    else:\n",
    "        print(\"good bye\")"
   ]
  },
  {
   "cell_type": "code",
   "execution_count": 14,
   "metadata": {},
   "outputs": [
    {
     "ename": "NameError",
     "evalue": "name 'krishna' is not defined",
     "output_type": "error",
     "traceback": [
      "\u001b[1;31m---------------------------------------------------------------------------\u001b[0m",
      "\u001b[1;31mNameError\u001b[0m                                 Traceback (most recent call last)",
      "Cell \u001b[1;32mIn[14], line 1\u001b[0m\n\u001b[1;32m----> 1\u001b[0m a\u001b[39m=\u001b[39m\u001b[39meval\u001b[39;49m(\u001b[39minput\u001b[39;49m(\u001b[39m\"\u001b[39;49m\u001b[39menter your number :\u001b[39;49m\u001b[39m\"\u001b[39;49m)) \u001b[39m# 10\u001b[39;00m\n\u001b[0;32m      2\u001b[0m b\u001b[39m=\u001b[39m\u001b[39meval\u001b[39m(\u001b[39minput\u001b[39m(\u001b[39m\"\u001b[39m\u001b[39menter your second number: \u001b[39m\u001b[39m\"\u001b[39m)) \u001b[39m#10\u001b[39;00m\n\u001b[0;32m      3\u001b[0m c\u001b[39m=\u001b[39m\u001b[39meval\u001b[39m(\u001b[39minput\u001b[39m(\u001b[39m\"\u001b[39m\u001b[39menter your third number: \u001b[39m\u001b[39m\"\u001b[39m))  \u001b[39m#20\u001b[39;00m\n",
      "File \u001b[1;32m<string>:1\u001b[0m\n",
      "\u001b[1;31mNameError\u001b[0m: name 'krishna' is not defined"
     ]
    }
   ],
   "source": [
    "a=eval(input(\"enter your number :\")) # 10\n",
    "b=eval(input(\"enter your second number: \")) #10\n",
    "c=eval(input(\"enter your third number: \"))  #20\n",
    "if a==b:\n",
    "    print(\"hello\")\n",
    "    if a<c:\n",
    "        print(\"I am krishna\")\n",
    "    else:\n",
    "        print(\"I am not krishna\")\n",
    "else:\n",
    "    if a!=b:\n",
    "        print(\"bye\")\n",
    "    else:\n",
    "        print(\"good bye\")"
   ]
  },
  {
   "cell_type": "code",
   "execution_count": 16,
   "metadata": {},
   "outputs": [
    {
     "name": "stdout",
     "output_type": "stream",
     "text": [
      "hello\n",
      "a equal hai c ke\n",
      "one one ke barabar hota hai\n"
     ]
    }
   ],
   "source": [
    "a=eval(input(\"enter your number :\")) # 10\n",
    "b=eval(input(\"enter your second number: \")) #10\n",
    "c=eval(input(\"enter your third number: \"))  #20\n",
    "if a==b:\n",
    "    print(\"hello\")\n",
    "    if a<c:\n",
    "        print(\"I am krishna\")\n",
    "    elif a==c:\n",
    "        print(\"a equal hai c ke\")\n",
    "        if 1==1:\n",
    "            print(\"one one ke barabar hota hai\")\n",
    "    else:\n",
    "        print(\"I am not krishna\")\n",
    "else:\n",
    "    if a!=b:\n",
    "        print(\"bye\")\n",
    "    else:\n",
    "        print(\"good bye\")"
   ]
  },
  {
   "cell_type": "code",
   "execution_count": 18,
   "metadata": {},
   "outputs": [
    {
     "name": "stdout",
     "output_type": "stream",
     "text": [
      "c\n",
      "B\n"
     ]
    }
   ],
   "source": [
    "if 1<0:\n",
    "    print(\"hello\")\n",
    "if 1>2:\n",
    "    print(\"bye\")\n",
    "if 1==1:\n",
    "    print(\"c\")\n",
    "if 2==2:\n",
    "    print(\"B\")"
   ]
  },
  {
   "cell_type": "code",
   "execution_count": 19,
   "metadata": {},
   "outputs": [
    {
     "name": "stdout",
     "output_type": "stream",
     "text": [
      "c\n"
     ]
    }
   ],
   "source": [
    "if 1<0:\n",
    "    print(\"hello\")\n",
    "elif 1>2:\n",
    "    print(\"bye\")\n",
    "elif 1==1:\n",
    "    print(\"c\")\n",
    "elif 2==2:\n",
    "    print(\"B\")"
   ]
  },
  {
   "cell_type": "code",
   "execution_count": 1,
   "metadata": {},
   "outputs": [
    {
     "name": "stdout",
     "output_type": "stream",
     "text": [
      "three is greater\n"
     ]
    }
   ],
   "source": [
    "if 2<3:\n",
    "    print(\"three is greater\")\n",
    "else:\n",
    "    print(\"two is greater\")"
   ]
  },
  {
   "cell_type": "code",
   "execution_count": 2,
   "metadata": {},
   "outputs": [],
   "source": [
    "# ternary operator"
   ]
  },
  {
   "cell_type": "code",
   "execution_count": 3,
   "metadata": {},
   "outputs": [
    {
     "name": "stdout",
     "output_type": "stream",
     "text": [
      "three is greater\n"
     ]
    }
   ],
   "source": [
    "print(\"three is greater\") if 2<3 else print(\"two is greater\")"
   ]
  },
  {
   "cell_type": "code",
   "execution_count": 4,
   "metadata": {},
   "outputs": [
    {
     "name": "stdout",
     "output_type": "stream",
     "text": [
      "two is greater\n"
     ]
    }
   ],
   "source": [
    "if 2>3:\n",
    "    print(\"three is greater\")\n",
    "else:\n",
    "    print(\"two is greater\")"
   ]
  },
  {
   "cell_type": "code",
   "execution_count": 5,
   "metadata": {},
   "outputs": [
    {
     "name": "stdout",
     "output_type": "stream",
     "text": [
      "two is greater\n"
     ]
    }
   ],
   "source": [
    "print(\"three is greater\") if 2>3 else print(\"two is greater\")"
   ]
  },
  {
   "cell_type": "code",
   "execution_count": 20,
   "metadata": {},
   "outputs": [
    {
     "name": "stdout",
     "output_type": "stream",
     "text": [
      "krishna\n"
     ]
    }
   ],
   "source": [
    "if 2>3:\n",
    "    pass\n",
    "else:\n",
    "    print(\"krishna\")"
   ]
  },
  {
   "cell_type": "code",
   "execution_count": 12,
   "metadata": {},
   "outputs": [],
   "source": [
    "if 2<3:\n",
    "    pass\n",
    "else:\n",
    "    print(\"two is greater\")"
   ]
  },
  {
   "cell_type": "code",
   "execution_count": 14,
   "metadata": {},
   "outputs": [
    {
     "name": "stdout",
     "output_type": "stream",
     "text": [
      "two is greater then 1\n"
     ]
    }
   ],
   "source": [
    "if 2>3:\n",
    "    print(\"three is bigger\")\n",
    "elif 2>1:\n",
    "    print(\"two is greater then 1\")\n",
    "else:\n",
    "    print(\"bye\")"
   ]
  },
  {
   "cell_type": "code",
   "execution_count": 18,
   "metadata": {},
   "outputs": [],
   "source": [
    "if 2>3:\n",
    "    print(\"three is bigger\")\n",
    "elif 2>1:\n",
    "    pass\n",
    "else:\n",
    "    print(\"bye\")"
   ]
  },
  {
   "cell_type": "code",
   "execution_count": null,
   "metadata": {},
   "outputs": [],
   "source": []
  }
 ],
 "metadata": {
  "kernelspec": {
   "display_name": "Python 3",
   "language": "python",
   "name": "python3"
  },
  "language_info": {
   "codemirror_mode": {
    "name": "ipython",
    "version": 3
   },
   "file_extension": ".py",
   "mimetype": "text/x-python",
   "name": "python",
   "nbconvert_exporter": "python",
   "pygments_lexer": "ipython3",
   "version": "3.11.3"
  },
  "orig_nbformat": 4
 },
 "nbformat": 4,
 "nbformat_minor": 2
}
