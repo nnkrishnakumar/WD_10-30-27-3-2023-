{
 "cells": [
  {
   "cell_type": "code",
   "execution_count": 1,
   "id": "433cdb75-f3aa-453c-9f13-f8e94f21126e",
   "metadata": {},
   "outputs": [],
   "source": [
    "# # overloading -->  Java support overloading \n",
    "#     > constructor overloading\n",
    "#     > method overloading\n"
   ]
  },
  {
   "cell_type": "code",
   "execution_count": 2,
   "id": "b5333e91-1697-457e-9273-a8b596363297",
   "metadata": {},
   "outputs": [],
   "source": [
    "# overriding --> "
   ]
  },
  {
   "cell_type": "code",
   "execution_count": 3,
   "id": "f1135300-89ad-4d63-aa4d-b714c05a961f",
   "metadata": {},
   "outputs": [],
   "source": [
    "class Runner:\n",
    "    def __init__(self):\n",
    "        print(\"this is constructor\");\n",
    "\n",
    "    def __init__(self,a):\n",
    "        print(\"This is second constructor\");\n",
    "\n",
    "    def balance_enquiry(self):\n",
    "        print(\"This is balance enquiry section\");\n",
    "\n",
    "    def balance_enquiry(self,b):\n",
    "        print(\"This is balnace enquiry section\"+b)\n",
    "    "
   ]
  },
  {
   "cell_type": "code",
   "execution_count": 5,
   "id": "146ed06f-56b4-4c72-8915-370ad14c1edb",
   "metadata": {},
   "outputs": [
    {
     "name": "stdout",
     "output_type": "stream",
     "text": [
      "This is second constructor\n"
     ]
    }
   ],
   "source": [
    "obj=Runner(10)"
   ]
  },
  {
   "cell_type": "code",
   "execution_count": 17,
   "id": "5ec3d9d1-7cb7-453b-9d6d-919ed83daf5a",
   "metadata": {},
   "outputs": [],
   "source": [
    "class Runner:\n",
    "    def __init__(self,a):\n",
    "        print(\"This is second constructor\");\n",
    "    def __init__(self):\n",
    "        print(\"this is constructor\");\n",
    "        \n",
    "    def balance_enquiry(self):\n",
    "        print(\"This is balance enquiry section\");\n",
    "\n",
    "    def balance_enquiry(self,b):\n",
    "        print(\"This is balnace enquiry section\"+b)"
   ]
  },
  {
   "cell_type": "code",
   "execution_count": 18,
   "id": "235e4efc-5783-4937-a993-a77492aa07c5",
   "metadata": {},
   "outputs": [
    {
     "name": "stdout",
     "output_type": "stream",
     "text": [
      "this is constructor\n"
     ]
    }
   ],
   "source": [
    "obj2=Runner()"
   ]
  },
  {
   "cell_type": "code",
   "execution_count": 19,
   "id": "36449857-a2fd-493b-acc9-c748582f79d0",
   "metadata": {},
   "outputs": [
    {
     "name": "stdout",
     "output_type": "stream",
     "text": [
      "This is balnace enquiry sectionkrishna\n"
     ]
    }
   ],
   "source": [
    "obj2.balance_enquiry(\"krishna\")"
   ]
  },
  {
   "cell_type": "code",
   "execution_count": 20,
   "id": "18345b69-fe2c-45c9-a3e8-4aa7fe2e2f7c",
   "metadata": {},
   "outputs": [],
   "source": [
    "class Shape:\n",
    "    def area(self,a,b):\n",
    "        l=a\n",
    "        b=b\n",
    "        print(\"Area of rectangle:\",l*b)\n",
    "    def area(self,a):\n",
    "        r=a\n",
    "        print(\"Area of circle:\",3.14*r**2)\n",
    "        "
   ]
  },
  {
   "cell_type": "code",
   "execution_count": 25,
   "id": "71bb8ef3-7d6d-4490-97b7-fffec7580547",
   "metadata": {},
   "outputs": [],
   "source": [
    "solid=Shape()"
   ]
  },
  {
   "cell_type": "code",
   "execution_count": 27,
   "id": "e3e1a5e9-5ae0-4b16-a9c8-6e5801f15ae1",
   "metadata": {},
   "outputs": [
    {
     "name": "stdout",
     "output_type": "stream",
     "text": [
      "Area of rectangle: 16\n"
     ]
    }
   ],
   "source": [
    "solid.area(4,4)"
   ]
  },
  {
   "cell_type": "code",
   "execution_count": 24,
   "id": "8dce6446-e5f7-4c39-bae3-48a8b2a762fb",
   "metadata": {},
   "outputs": [],
   "source": [
    "class Shape:\n",
    "    def area(self,a):\n",
    "        r=a\n",
    "        print(\"Area of circle:\",3.14*r**2)\n",
    "    def area(self,a,b):\n",
    "        l=a\n",
    "        b=b\n",
    "        print(\"Area of rectangle:\",l*b)\n"
   ]
  },
  {
   "cell_type": "code",
   "execution_count": 36,
   "id": "7714b0e9-03ad-4673-99d9-63616377ef0b",
   "metadata": {},
   "outputs": [],
   "source": [
    "class Shape:\n",
    "\n",
    "    def area(self,a,b=0):\n",
    "        l=a\n",
    "        b=b\n",
    "        if b==0:\n",
    "            r=a\n",
    "            print(\"Area of circle:\",3.14*r**2)\n",
    "        else:\n",
    "            print(\"Area of rectangle:\",l*b)\n",
    "        \n",
    "       "
   ]
  },
  {
   "cell_type": "code",
   "execution_count": 37,
   "id": "b52ab280-9e0f-46d5-a8f6-fda72c82deae",
   "metadata": {},
   "outputs": [],
   "source": [
    "solid=Shape()"
   ]
  },
  {
   "cell_type": "code",
   "execution_count": 38,
   "id": "b834d4b2-3af4-447b-b219-bf2f5e8463f6",
   "metadata": {},
   "outputs": [
    {
     "name": "stdout",
     "output_type": "stream",
     "text": [
      "Area of circle: 12.56\n"
     ]
    }
   ],
   "source": [
    "solid.area(2)"
   ]
  },
  {
   "cell_type": "code",
   "execution_count": 39,
   "id": "b1f95059-4ada-4ca5-ab6f-42a6f674221c",
   "metadata": {},
   "outputs": [
    {
     "name": "stdout",
     "output_type": "stream",
     "text": [
      "Area of rectangle: 6\n"
     ]
    }
   ],
   "source": [
    "solid.area(2,3)"
   ]
  },
  {
   "cell_type": "code",
   "execution_count": null,
   "id": "1fafd410-6651-4895-beba-cb2c7a0755ba",
   "metadata": {},
   "outputs": [],
   "source": []
  },
  {
   "cell_type": "code",
   "execution_count": 31,
   "id": "f1e2f12a-5707-446f-a5a1-77d9dcfdba7b",
   "metadata": {},
   "outputs": [],
   "source": [
    "def area(a,b=0):\n",
    "    print(a+b)"
   ]
  },
  {
   "cell_type": "code",
   "execution_count": null,
   "id": "baff21aa-db0b-465b-a8b3-6745cd36f204",
   "metadata": {},
   "outputs": [],
   "source": []
  },
  {
   "cell_type": "code",
   "execution_count": 32,
   "id": "1b806ac8-0601-4159-ac03-916c066d4d32",
   "metadata": {},
   "outputs": [
    {
     "name": "stdout",
     "output_type": "stream",
     "text": [
      "5\n"
     ]
    }
   ],
   "source": [
    "area(2,3)"
   ]
  },
  {
   "cell_type": "code",
   "execution_count": 34,
   "id": "0f26a765-b8fe-4c76-9681-ea408eb48ba4",
   "metadata": {},
   "outputs": [
    {
     "name": "stdout",
     "output_type": "stream",
     "text": [
      "12\n"
     ]
    }
   ],
   "source": [
    "area(2,10)"
   ]
  },
  {
   "cell_type": "code",
   "execution_count": 42,
   "id": "e289f5ad-1100-4733-851e-25d82bf3454c",
   "metadata": {},
   "outputs": [],
   "source": [
    "class Shape:\n",
    "    def area(self,a,b,c=0,d=0):\n",
    "        if c==0:\n",
    "            print(a+b)\n",
    "        elif d==0:\n",
    "            print(a+b+c)\n",
    "        else:\n",
    "            print(a+b+c+d)"
   ]
  },
  {
   "cell_type": "code",
   "execution_count": 43,
   "id": "105c8685-ad30-4f44-9f63-a258550fb520",
   "metadata": {},
   "outputs": [],
   "source": [
    "add=Shape()"
   ]
  },
  {
   "cell_type": "code",
   "execution_count": 44,
   "id": "c35ccb41-2741-4784-a9e6-665f54acf1f1",
   "metadata": {},
   "outputs": [
    {
     "name": "stdout",
     "output_type": "stream",
     "text": [
      "5\n"
     ]
    }
   ],
   "source": [
    "add.area(2,3)"
   ]
  },
  {
   "cell_type": "code",
   "execution_count": 45,
   "id": "b99dc511-7ea4-4bff-882d-9654564c2e55",
   "metadata": {},
   "outputs": [
    {
     "name": "stdout",
     "output_type": "stream",
     "text": [
      "9\n"
     ]
    }
   ],
   "source": [
    "add.area(2,3,4)"
   ]
  },
  {
   "cell_type": "code",
   "execution_count": 46,
   "id": "2bce7530-baba-4654-bac8-3d2e3388804c",
   "metadata": {},
   "outputs": [
    {
     "name": "stdout",
     "output_type": "stream",
     "text": [
      "13\n"
     ]
    }
   ],
   "source": [
    "add.area(2,3,4,4)"
   ]
  },
  {
   "cell_type": "code",
   "execution_count": 47,
   "id": "78b7a047-da30-4a51-b333-736d32f1d96e",
   "metadata": {},
   "outputs": [
    {
     "ename": "TypeError",
     "evalue": "Shape.area() takes from 3 to 5 positional arguments but 6 were given",
     "output_type": "error",
     "traceback": [
      "\u001b[1;31m---------------------------------------------------------------------------\u001b[0m",
      "\u001b[1;31mTypeError\u001b[0m                                 Traceback (most recent call last)",
      "Cell \u001b[1;32mIn[47], line 1\u001b[0m\n\u001b[1;32m----> 1\u001b[0m \u001b[43madd\u001b[49m\u001b[38;5;241;43m.\u001b[39;49m\u001b[43marea\u001b[49m\u001b[43m(\u001b[49m\u001b[38;5;241;43m2\u001b[39;49m\u001b[43m,\u001b[49m\u001b[38;5;241;43m3\u001b[39;49m\u001b[43m,\u001b[49m\u001b[38;5;241;43m4\u001b[39;49m\u001b[43m,\u001b[49m\u001b[38;5;241;43m4\u001b[39;49m\u001b[43m,\u001b[49m\u001b[38;5;241;43m5\u001b[39;49m\u001b[43m)\u001b[49m\n",
      "\u001b[1;31mTypeError\u001b[0m: Shape.area() takes from 3 to 5 positional arguments but 6 were given"
     ]
    }
   ],
   "source": [
    "add.area(2,3,4,4,5)"
   ]
  },
  {
   "cell_type": "code",
   "execution_count": null,
   "id": "5dd6f498-a81e-4ef5-bbb2-1a24220b2f5f",
   "metadata": {},
   "outputs": [],
   "source": []
  }
 ],
 "metadata": {
  "kernelspec": {
   "display_name": "Python 3 (ipykernel)",
   "language": "python",
   "name": "python3"
  },
  "language_info": {
   "codemirror_mode": {
    "name": "ipython",
    "version": 3
   },
   "file_extension": ".py",
   "mimetype": "text/x-python",
   "name": "python",
   "nbconvert_exporter": "python",
   "pygments_lexer": "ipython3",
   "version": "3.11.3"
  }
 },
 "nbformat": 4,
 "nbformat_minor": 5
}
