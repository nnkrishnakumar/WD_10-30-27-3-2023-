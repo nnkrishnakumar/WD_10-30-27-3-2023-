{
 "cells": [
  {
   "cell_type": "code",
   "execution_count": 11,
   "metadata": {},
   "outputs": [],
   "source": [
    "#single level inheritance\n",
    "class BPS:\n",
    "    def landhoner(self):\n",
    "        print(\"BPS is landlord\")\n",
    "\n",
    "class HT:\n",
    "    def bus(self):\n",
    "        print(\"HT has a bus\")\n",
    "\n",
    "class GT:\n",
    "    def IAS(self):\n",
    "        print(\"GT belong to IAS\")\n",
    "\n",
    "class JBPS(HT):\n",
    "    def son(self):\n",
    "        print(\"JBPS is son of HT\")\n",
    "\n"
   ]
  },
  {
   "cell_type": "code",
   "execution_count": 12,
   "metadata": {},
   "outputs": [],
   "source": [
    "son=JBPS()"
   ]
  },
  {
   "cell_type": "code",
   "execution_count": 13,
   "metadata": {},
   "outputs": [
    {
     "name": "stdout",
     "output_type": "stream",
     "text": [
      "HT has a bus\n"
     ]
    }
   ],
   "source": [
    "son.bus()"
   ]
  },
  {
   "cell_type": "code",
   "execution_count": 14,
   "metadata": {},
   "outputs": [],
   "source": [
    "# multilevel inheritance\n",
    "class BPS:\n",
    "    def landhoner(self):\n",
    "        print(\"BPS is landlord\")\n",
    "\n",
    "class HT(BPS):\n",
    "    def bus(self):\n",
    "        print(\"HT has a bus\")\n",
    "\n",
    "class GT:\n",
    "    def IAS(self):\n",
    "        print(\"GT belong to IAS\")\n",
    "\n",
    "class JBPS(HT):\n",
    "    def son(self):\n",
    "        print(\"JBPS is son of HT\")\n"
   ]
  },
  {
   "cell_type": "code",
   "execution_count": 15,
   "metadata": {},
   "outputs": [],
   "source": [
    "son=JBPS()"
   ]
  },
  {
   "cell_type": "code",
   "execution_count": 16,
   "metadata": {},
   "outputs": [
    {
     "name": "stdout",
     "output_type": "stream",
     "text": [
      "BPS is landlord\n"
     ]
    }
   ],
   "source": [
    "son.landhoner()"
   ]
  },
  {
   "cell_type": "code",
   "execution_count": 21,
   "metadata": {},
   "outputs": [],
   "source": [
    "# multilevel inheritance\n",
    "class BPS:\n",
    "    def landhoner(self):\n",
    "        print(\"BPS is landlord\")\n",
    "\n",
    "class HT(GT):\n",
    "    def bus(self):\n",
    "        print(\"HT has a bus\")\n",
    "\n",
    "class GT(HT):\n",
    "    def IAS(self):\n",
    "        print(\"GT belong to IAS\")\n",
    "\n",
    "class JBPS(HT):\n",
    "    def son(self):\n",
    "        print(\"JBPS is son of HT\")\n"
   ]
  },
  {
   "cell_type": "code",
   "execution_count": 22,
   "metadata": {},
   "outputs": [],
   "source": [
    "papa=HT()"
   ]
  },
  {
   "cell_type": "code",
   "execution_count": 23,
   "metadata": {},
   "outputs": [],
   "source": [
    "housewife=GT()"
   ]
  },
  {
   "cell_type": "code",
   "execution_count": 24,
   "metadata": {},
   "outputs": [],
   "source": [
    "# multiple inheritance\n",
    "class BPS:\n",
    "    def landhoner(self):\n",
    "        print(\"BPS is landlord\")\n",
    "\n",
    "class HT:\n",
    "    def bus(self):\n",
    "        print(\"HT has a bus\")\n",
    "\n",
    "class GT:\n",
    "    def IAS(self):\n",
    "        print(\"GT belong to IAS\")\n",
    "\n",
    "class JBPS(HT,GT):\n",
    "    def son(self):\n",
    "        print(\"JBPS is son of HT\")\n"
   ]
  },
  {
   "cell_type": "code",
   "execution_count": 25,
   "metadata": {},
   "outputs": [],
   "source": [
    "son=JBPS()"
   ]
  },
  {
   "cell_type": "code",
   "execution_count": 27,
   "metadata": {},
   "outputs": [],
   "source": [
    "# hybrid inheritance\n",
    "class BPS:\n",
    "    def landhoner(self):\n",
    "        print(\"BPS is landlord\")\n",
    "\n",
    "class HT(BPS):\n",
    "    def bus(self):\n",
    "        print(\"HT has a bus\")\n",
    "\n",
    "class GT:\n",
    "    def IAS(self):\n",
    "        print(\"GT belong to IAS\")\n",
    "\n",
    "class JBPS(HT,GT):\n",
    "    def son(self):\n",
    "        print(\"JBPS is son of HT\")\n"
   ]
  },
  {
   "cell_type": "code",
   "execution_count": 28,
   "metadata": {},
   "outputs": [],
   "source": [
    "son=JBPS()"
   ]
  },
  {
   "cell_type": "code",
   "execution_count": 29,
   "metadata": {},
   "outputs": [
    {
     "name": "stdout",
     "output_type": "stream",
     "text": [
      "GT belong to IAS\n"
     ]
    }
   ],
   "source": [
    "son.IAS()"
   ]
  },
  {
   "cell_type": "code",
   "execution_count": 30,
   "metadata": {},
   "outputs": [
    {
     "name": "stdout",
     "output_type": "stream",
     "text": [
      "HT has a bus\n"
     ]
    }
   ],
   "source": [
    "son.bus()"
   ]
  },
  {
   "cell_type": "code",
   "execution_count": 31,
   "metadata": {},
   "outputs": [
    {
     "name": "stdout",
     "output_type": "stream",
     "text": [
      "BPS is landlord\n"
     ]
    }
   ],
   "source": [
    "son.landhoner()"
   ]
  },
  {
   "cell_type": "code",
   "execution_count": 32,
   "metadata": {},
   "outputs": [],
   "source": [
    "class BPS:\n",
    "    def __init__(self):\n",
    "        print(\"My grandson will become a landlord\")\n",
    "    def landhoner(self):\n",
    "        print(\"BPS is landlord\")\n",
    "\n",
    "class HT:\n",
    "    def __init__(self):\n",
    "        print(\"My son will become a business man\")\n",
    "    def bus(self):\n",
    "        print(\"HT has a bus\")\n",
    "\n",
    "class GT:\n",
    "    def __init__(self):\n",
    "        print(\"My son will become an IAS\")\n",
    "    def IAS(self):\n",
    "        print(\"GT belong to IAS\")\n",
    "\n",
    "class JBPS(BPS,HT,GT):\n",
    "    def son(self):\n",
    "        print(\"JBPS is son of HT\")\n"
   ]
  },
  {
   "cell_type": "code",
   "execution_count": 33,
   "metadata": {},
   "outputs": [
    {
     "name": "stdout",
     "output_type": "stream",
     "text": [
      "My grandson will become a landlord\n"
     ]
    }
   ],
   "source": [
    "son=JBPS()"
   ]
  },
  {
   "cell_type": "code",
   "execution_count": 34,
   "metadata": {},
   "outputs": [],
   "source": [
    "class BPS:\n",
    "    def __init__(self):\n",
    "        print(\"My grandson will become a landlord\")\n",
    "    def landhoner(self):\n",
    "        print(\"BPS is landlord\")\n",
    "\n",
    "class HT:\n",
    "    def __init__(self):\n",
    "        print(\"My son will become a business man\")\n",
    "    def bus(self):\n",
    "        print(\"HT has a bus\")\n",
    "\n",
    "class GT:\n",
    "    def __init__(self):\n",
    "        print(\"My son will become an IAS\")\n",
    "    def IAS(self):\n",
    "        print(\"GT belong to IAS\")\n",
    "\n",
    "class JBPS(HT,GT,BPS):\n",
    "    def son(self):\n",
    "        print(\"JBPS is son of HT\")\n"
   ]
  },
  {
   "cell_type": "code",
   "execution_count": 35,
   "metadata": {},
   "outputs": [
    {
     "name": "stdout",
     "output_type": "stream",
     "text": [
      "My son will become a business man\n"
     ]
    }
   ],
   "source": [
    "son=JBPS()"
   ]
  },
  {
   "cell_type": "code",
   "execution_count": 36,
   "metadata": {},
   "outputs": [],
   "source": [
    "class BPS:\n",
    "    def __init__(self):\n",
    "        print(\"My grandson will become a landlord\")\n",
    "    def landhoner(self):\n",
    "        print(\"BPS is landlord\")\n",
    "\n",
    "class HT:\n",
    "    def __init__(self):\n",
    "        print(\"My son will become a business man\")\n",
    "    def bus(self):\n",
    "        print(\"HT has a bus\")\n",
    "\n",
    "class GT:\n",
    "    def __init__(self):\n",
    "        print(\"My son will become an IAS\")\n",
    "    def IAS(self):\n",
    "        print(\"GT belong to IAS\")\n",
    "\n",
    "class JBPS(GT,BPS,HT):\n",
    "    def son(self):\n",
    "        print(\"JBPS is son of HT\")\n"
   ]
  },
  {
   "cell_type": "code",
   "execution_count": 37,
   "metadata": {},
   "outputs": [
    {
     "name": "stdout",
     "output_type": "stream",
     "text": [
      "My son will become an IAS\n"
     ]
    }
   ],
   "source": [
    "son=JBPS()"
   ]
  },
  {
   "cell_type": "code",
   "execution_count": 38,
   "metadata": {},
   "outputs": [],
   "source": [
    "class BPS:\n",
    "    def __init__(self):\n",
    "        print(\"My grandson will become a landlord\")\n",
    "    def landhoner(self):\n",
    "        print(\"BPS is landlord\")\n",
    "\n",
    "class HT:\n",
    "    def __init__(self):\n",
    "        print(\"My son will become a business man\")\n",
    "    def bus(self):\n",
    "        print(\"HT has a bus\")\n",
    "\n",
    "class GT:\n",
    "    def __init__(self):\n",
    "        print(\"My son will become an IAS\")\n",
    "    def IAS(self):\n",
    "        print(\"GT belong to IAS\")\n",
    "\n",
    "class JBPS(GT,BPS,HT):\n",
    "    def __init__(self):\n",
    "        print(\"I will become AI engineer\")\n",
    "    def son(self):\n",
    "        print(\"JBPS is son of HT\")\n"
   ]
  },
  {
   "cell_type": "code",
   "execution_count": 39,
   "metadata": {},
   "outputs": [
    {
     "name": "stdout",
     "output_type": "stream",
     "text": [
      "I will become AI engineer\n"
     ]
    }
   ],
   "source": [
    "son=JBPS()"
   ]
  },
  {
   "cell_type": "code",
   "execution_count": 40,
   "metadata": {},
   "outputs": [],
   "source": [
    "# super().__init__()"
   ]
  },
  {
   "cell_type": "code",
   "execution_count": 43,
   "metadata": {},
   "outputs": [],
   "source": [
    "class BPS:\n",
    "    def __init__(self):\n",
    "        print(\"My grandson will become a landlord\")\n",
    "    def landhoner(self):\n",
    "        print(\"BPS is landlord\")\n",
    "\n",
    "class HT:\n",
    "    def __init__(self):\n",
    "        print(\"My son will become a business man\")\n",
    "    def bus(self):\n",
    "        print(\"HT has a bus\")\n",
    "\n",
    "class GT(HT):\n",
    "    def __init__(self):\n",
    "        super().__init__()\n",
    "        print(\"My son will become an IAS\")\n",
    "    def IAS(self):\n",
    "        print(\"GT belong to IAS\")\n",
    "\n",
    "class JBPS(GT):\n",
    "    def __init__(self):\n",
    "        super().__init__()\n",
    "        print(\"I will become AI engineer\")\n",
    "    def son(self):\n",
    "        print(\"JBPS is son of HT\")\n"
   ]
  },
  {
   "cell_type": "code",
   "execution_count": 44,
   "metadata": {},
   "outputs": [
    {
     "name": "stdout",
     "output_type": "stream",
     "text": [
      "My son will become an IAS\n",
      "I will become AI engineer\n"
     ]
    }
   ],
   "source": [
    "son=JBPS()"
   ]
  },
  {
   "cell_type": "code",
   "execution_count": null,
   "metadata": {},
   "outputs": [],
   "source": []
  }
 ],
 "metadata": {
  "kernelspec": {
   "display_name": "Python 3",
   "language": "python",
   "name": "python3"
  },
  "language_info": {
   "codemirror_mode": {
    "name": "ipython",
    "version": 3
   },
   "file_extension": ".py",
   "mimetype": "text/x-python",
   "name": "python",
   "nbconvert_exporter": "python",
   "pygments_lexer": "ipython3",
   "version": "3.11.3"
  },
  "orig_nbformat": 4
 },
 "nbformat": 4,
 "nbformat_minor": 2
}
