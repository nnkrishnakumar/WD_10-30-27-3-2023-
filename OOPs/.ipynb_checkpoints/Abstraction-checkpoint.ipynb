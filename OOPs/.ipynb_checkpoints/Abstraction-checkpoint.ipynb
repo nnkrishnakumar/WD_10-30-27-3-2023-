{
 "cells": [
  {
   "cell_type": "code",
   "execution_count": null,
   "id": "e16b2c56-ab09-4051-8ec1-c65756a29280",
   "metadata": {},
   "outputs": [],
   "source": [
    "#project manager create blueprint of a atm project...\n",
    "class ATM:\n",
    "    def __init__(self):\n",
    "        self.pin=\"0000\"\n",
    "        self.balance=10000\n",
    "\n",
    "    def balance_equirty(self):\n",
    "        print(\"this is balance enquiry section\")\n",
    "\n",
    "    def change_pin(self):\n",
    "        print(\"this is change pin section \")\n",
    "        "
   ]
  }
 ],
 "metadata": {
  "kernelspec": {
   "display_name": "Python 3 (ipykernel)",
   "language": "python",
   "name": "python3"
  },
  "language_info": {
   "codemirror_mode": {
    "name": "ipython",
    "version": 3
   },
   "file_extension": ".py",
   "mimetype": "text/x-python",
   "name": "python",
   "nbconvert_exporter": "python",
   "pygments_lexer": "ipython3",
   "version": "3.11.3"
  }
 },
 "nbformat": 4,
 "nbformat_minor": 5
}
