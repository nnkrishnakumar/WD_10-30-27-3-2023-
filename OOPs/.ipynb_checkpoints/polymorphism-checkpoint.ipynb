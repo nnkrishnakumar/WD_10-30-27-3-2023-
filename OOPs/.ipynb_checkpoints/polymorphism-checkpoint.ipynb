{
 "cells": [
  {
   "cell_type": "code",
   "execution_count": 1,
   "id": "433cdb75-f3aa-453c-9f13-f8e94f21126e",
   "metadata": {},
   "outputs": [],
   "source": [
    "# # overloading -->  Java support overloading \n",
    "#     > constructor overloading\n",
    "#     > method overloading\n"
   ]
  },
  {
   "cell_type": "code",
   "execution_count": 2,
   "id": "b5333e91-1697-457e-9273-a8b596363297",
   "metadata": {},
   "outputs": [],
   "source": [
    "# overriding --> "
   ]
  },
  {
   "cell_type": "code",
   "execution_count": null,
   "id": "f1135300-89ad-4d63-aa4d-b714c05a961f",
   "metadata": {},
   "outputs": [],
   "source": [
    "class Runner:\n",
    "    def __init__(self):\n",
    "        print(\"this is constructor\");\n",
    "\n",
    "    def __init__(self):\n",
    "        print(\"This is second constructor\");\n",
    "        "
   ]
  }
 ],
 "metadata": {
  "kernelspec": {
   "display_name": "Python 3 (ipykernel)",
   "language": "python",
   "name": "python3"
  },
  "language_info": {
   "codemirror_mode": {
    "name": "ipython",
    "version": 3
   },
   "file_extension": ".py",
   "mimetype": "text/x-python",
   "name": "python",
   "nbconvert_exporter": "python",
   "pygments_lexer": "ipython3",
   "version": "3.11.3"
  }
 },
 "nbformat": 4,
 "nbformat_minor": 5
}
