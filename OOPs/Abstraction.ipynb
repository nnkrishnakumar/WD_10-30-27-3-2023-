{
 "cells": [
  {
   "cell_type": "code",
   "execution_count": 1,
   "id": "e16b2c56-ab09-4051-8ec1-c65756a29280",
   "metadata": {},
   "outputs": [],
   "source": [
    "#project manager create blueprint of a atm project...\n",
    "class ATM:\n",
    "    def __init__(self):\n",
    "        self.pin=\"0000\"\n",
    "        self.balance=10000\n",
    "\n",
    "    def balance_equirty(self):\n",
    "        print(\"this is balance enquiry section\")\n",
    "\n",
    "    def change_pin(self):\n",
    "        print(\"this is change pin section \")\n",
    "        "
   ]
  },
  {
   "cell_type": "code",
   "execution_count": 2,
   "id": "9ada4444-6f33-4af6-ab15-86a0da29ace5",
   "metadata": {},
   "outputs": [],
   "source": [
    "krishna=ATM()"
   ]
  },
  {
   "cell_type": "code",
   "execution_count": 3,
   "id": "f5cbbdf8-4318-40af-94a7-395267b7b094",
   "metadata": {},
   "outputs": [],
   "source": [
    "# Abstract class:\n",
    "# Rule1: Project class must inherit ABC as parent class.\n",
    "# Rule2: at least one method of project class must be abstract method."
   ]
  },
  {
   "cell_type": "code",
   "execution_count": 25,
   "id": "54d9410b-6377-4b10-b02a-6de81269feb4",
   "metadata": {},
   "outputs": [],
   "source": [
    "from abc import ABC,abstractmethod\n",
    "class ATM(ABC):\n",
    "\n",
    "    def __init__(self):\n",
    "        self.pin=\"0000\"\n",
    "        self.balance=10000\n",
    "    @abstractmethod\n",
    "    def balance_enquiry(self):     #krishna \n",
    "        print(\"this is balance enquiry section\")\n",
    "        #model connect\n",
    "    @abstractmethod\n",
    "    def change_pin(self):           # Shayam\n",
    "        print(\"this is change pin section \")\n",
    "    def fund_transfer(self):      #mohan\n",
    "        pass\n",
    "        "
   ]
  },
  {
   "cell_type": "code",
   "execution_count": 26,
   "id": "8658c63b-2413-4735-8eeb-b52427f5077f",
   "metadata": {},
   "outputs": [
    {
     "ename": "TypeError",
     "evalue": "Can't instantiate abstract class ATM with abstract methods balance_enquiry, change_pin",
     "output_type": "error",
     "traceback": [
      "\u001b[1;31m---------------------------------------------------------------------------\u001b[0m",
      "\u001b[1;31mTypeError\u001b[0m                                 Traceback (most recent call last)",
      "Cell \u001b[1;32mIn[26], line 1\u001b[0m\n\u001b[1;32m----> 1\u001b[0m krishna\u001b[38;5;241m=\u001b[39m\u001b[43mATM\u001b[49m\u001b[43m(\u001b[49m\u001b[43m)\u001b[49m\n",
      "\u001b[1;31mTypeError\u001b[0m: Can't instantiate abstract class ATM with abstract methods balance_enquiry, change_pin"
     ]
    }
   ],
   "source": [
    "krishna=ATM()"
   ]
  },
  {
   "cell_type": "code",
   "execution_count": 29,
   "id": "1fb1a2f6-22b8-4a15-84d8-f8e4a2274968",
   "metadata": {},
   "outputs": [
    {
     "name": "stdout",
     "output_type": "stream",
     "text": [
      "hello world\n"
     ]
    }
   ],
   "source": [
    "class ATM_krishna(ATM):\n",
    "    print(\"hello world\")\n",
    "    def balance_enquiry(self):\n",
    "        print(\"this is fully workable now\")\n",
    "    def change_pin(self):\n",
    "        pass\n",
    "    "
   ]
  },
  {
   "cell_type": "code",
   "execution_count": 30,
   "id": "cc8e4355-f8e1-4f33-98ca-3ffa690f15a4",
   "metadata": {},
   "outputs": [
    {
     "name": "stdout",
     "output_type": "stream",
     "text": [
      "this is fully workable now\n"
     ]
    }
   ],
   "source": [
    "krishna1=ATM_krishna()\n",
    "krishna1.balance_enquiry()"
   ]
  },
  {
   "cell_type": "code",
   "execution_count": 20,
   "id": "c7c3f1e7-358a-4c8c-bab7-524403ec8fd3",
   "metadata": {},
   "outputs": [],
   "source": [
    "a=10"
   ]
  },
  {
   "cell_type": "code",
   "execution_count": 21,
   "id": "876de34e-9894-4c3f-aa46-80532f5a5f1c",
   "metadata": {},
   "outputs": [],
   "source": [
    "a=20"
   ]
  },
  {
   "cell_type": "code",
   "execution_count": null,
   "id": "b4358786-5a56-4e76-94ac-50039e0b06a2",
   "metadata": {},
   "outputs": [],
   "source": [
    "print(a)"
   ]
  }
 ],
 "metadata": {
  "kernelspec": {
   "display_name": "Python 3 (ipykernel)",
   "language": "python",
   "name": "python3"
  },
  "language_info": {
   "codemirror_mode": {
    "name": "ipython",
    "version": 3
   },
   "file_extension": ".py",
   "mimetype": "text/x-python",
   "name": "python",
   "nbconvert_exporter": "python",
   "pygments_lexer": "ipython3",
   "version": "3.11.3"
  }
 },
 "nbformat": 4,
 "nbformat_minor": 5
}
