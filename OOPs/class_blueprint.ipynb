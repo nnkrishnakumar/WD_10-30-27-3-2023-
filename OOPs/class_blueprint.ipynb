{
 "cells": [
  {
   "attachments": {},
   "cell_type": "markdown",
   "metadata": {},
   "source": [
    "Introduction of OOPs:\n",
    "\n",
    "Paradigm of programming:\n",
    "\n",
    "    > Top line Programming(redundency worst way of programming)\n",
    "    > Procedural/ function programming\n",
    "    > OOPS(Object Orient Programming)"
   ]
  },
  {
   "cell_type": "code",
   "execution_count": 1,
   "metadata": {},
   "outputs": [
    {
     "name": "stdout",
     "output_type": "stream",
     "text": [
      "hello world\n"
     ]
    }
   ],
   "source": [
    "#top line programming\n",
    "print(\"hello world\")"
   ]
  },
  {
   "cell_type": "code",
   "execution_count": 2,
   "metadata": {},
   "outputs": [],
   "source": [
    "#procedural or function programming\n",
    "def hello():\n",
    "    print(\"hello world\")"
   ]
  },
  {
   "cell_type": "code",
   "execution_count": 3,
   "metadata": {},
   "outputs": [
    {
     "name": "stdout",
     "output_type": "stream",
     "text": [
      "hello world\n"
     ]
    }
   ],
   "source": [
    "hello()"
   ]
  },
  {
   "cell_type": "code",
   "execution_count": 4,
   "metadata": {},
   "outputs": [],
   "source": [
    "#Object Oriented Programming structure\n",
    "class Hello:\n",
    "    def hello2(self):\n",
    "        print(\"hello world\")"
   ]
  },
  {
   "cell_type": "code",
   "execution_count": 5,
   "metadata": {},
   "outputs": [
    {
     "name": "stdout",
     "output_type": "stream",
     "text": [
      "hello world\n"
     ]
    }
   ],
   "source": [
    "a=Hello()\n",
    "a.hello2()"
   ]
  },
  {
   "cell_type": "code",
   "execution_count": 6,
   "metadata": {},
   "outputs": [],
   "source": [
    "# Blueprint: --> "
   ]
  },
  {
   "cell_type": "code",
   "execution_count": 7,
   "metadata": {},
   "outputs": [],
   "source": [
    "# class is a Blueprint\n",
    "# variable/identifier/argument/object"
   ]
  },
  {
   "cell_type": "code",
   "execution_count": 8,
   "metadata": {},
   "outputs": [
    {
     "name": "stdout",
     "output_type": "stream",
     "text": [
      "<class 'int'>\n"
     ]
    }
   ],
   "source": [
    "a=10\n",
    "print(type(a))"
   ]
  },
  {
   "cell_type": "code",
   "execution_count": 1,
   "metadata": {},
   "outputs": [],
   "source": [
    "class Burj_Khalifa:   # class name \n",
    "    def __init__(self):  # __init__() is the constructor \n",
    "        #instance variable also known as attributes\n",
    "        self.height=828\n",
    "        self.location=\"Dubai\"\n",
    "        self.lift=2\n",
    "        self.room=1000\n",
    "        \n",
    "    # features/method--> when introduced function inside a class called methods\n",
    "    def accomodation(self):\n",
    "        print(\"Accomodation is available\")\n",
    "    \n",
    "    def parking(self):\n",
    "        print(\"provide us parking for our vehicles\")\n",
    "    "
   ]
  },
  {
   "cell_type": "code",
   "execution_count": 2,
   "metadata": {},
   "outputs": [],
   "source": [
    "France=Burj_Khalifa()"
   ]
  },
  {
   "cell_type": "code",
   "execution_count": 3,
   "metadata": {},
   "outputs": [
    {
     "name": "stdout",
     "output_type": "stream",
     "text": [
      "Accomodation is available\n"
     ]
    }
   ],
   "source": [
    "France.accomodation()"
   ]
  },
  {
   "cell_type": "code",
   "execution_count": 4,
   "metadata": {},
   "outputs": [
    {
     "name": "stdout",
     "output_type": "stream",
     "text": [
      "provide us parking for our vehicles\n"
     ]
    }
   ],
   "source": [
    "France.parking()"
   ]
  },
  {
   "cell_type": "code",
   "execution_count": 5,
   "metadata": {},
   "outputs": [
    {
     "data": {
      "text/plain": [
       "828"
      ]
     },
     "execution_count": 5,
     "metadata": {},
     "output_type": "execute_result"
    }
   ],
   "source": [
    "France.height"
   ]
  },
  {
   "cell_type": "code",
   "execution_count": 6,
   "metadata": {},
   "outputs": [],
   "source": [
    "India=Burj_Khalifa()"
   ]
  },
  {
   "cell_type": "code",
   "execution_count": 7,
   "metadata": {},
   "outputs": [
    {
     "name": "stdout",
     "output_type": "stream",
     "text": [
      "Accomodation is available\n"
     ]
    }
   ],
   "source": [
    "India.accomodation()"
   ]
  },
  {
   "cell_type": "code",
   "execution_count": 9,
   "metadata": {},
   "outputs": [],
   "source": [
    "India.height=500"
   ]
  },
  {
   "cell_type": "code",
   "execution_count": 10,
   "metadata": {},
   "outputs": [
    {
     "data": {
      "text/plain": [
       "500"
      ]
     },
     "execution_count": 10,
     "metadata": {},
     "output_type": "execute_result"
    }
   ],
   "source": [
    "India.height"
   ]
  },
  {
   "cell_type": "code",
   "execution_count": 11,
   "metadata": {},
   "outputs": [
    {
     "data": {
      "text/plain": [
       "828"
      ]
     },
     "execution_count": 11,
     "metadata": {},
     "output_type": "execute_result"
    }
   ],
   "source": [
    "France.height"
   ]
  },
  {
   "cell_type": "code",
   "execution_count": 12,
   "metadata": {},
   "outputs": [],
   "source": [
    "class Burj_Khalifa:   # class name \n",
    "    def __init__(self):  # __init__() is the constructor \n",
    "        #instance variable also known as attributes\n",
    "        self.height=828\n",
    "        self.location=\"Dubai\"\n",
    "        self.lift=2\n",
    "        self.room=1000\n",
    "        print(\"class self :\",id(self))    \n",
    "    # features/method--> when introduced function inside a class called methods\n",
    "    def accomodation(self):\n",
    "        print(\"Accomodation is available\")\n",
    "    \n",
    "    def parking(self):\n",
    "        print(\"provide us parking for our vehicles\")\n",
    "    "
   ]
  },
  {
   "cell_type": "code",
   "execution_count": 13,
   "metadata": {},
   "outputs": [
    {
     "name": "stdout",
     "output_type": "stream",
     "text": [
      "class self : 2679381661584\n"
     ]
    }
   ],
   "source": [
    "Singapore=Burj_Khalifa()"
   ]
  },
  {
   "cell_type": "code",
   "execution_count": 14,
   "metadata": {},
   "outputs": [
    {
     "data": {
      "text/plain": [
       "2679381661584"
      ]
     },
     "execution_count": 14,
     "metadata": {},
     "output_type": "execute_result"
    }
   ],
   "source": [
    "id(Singapore)"
   ]
  },
  {
   "cell_type": "code",
   "execution_count": 15,
   "metadata": {},
   "outputs": [
    {
     "name": "stdout",
     "output_type": "stream",
     "text": [
      "class self : 2679380985168\n"
     ]
    }
   ],
   "source": [
    "India=Burj_Khalifa()"
   ]
  },
  {
   "cell_type": "code",
   "execution_count": 16,
   "metadata": {},
   "outputs": [
    {
     "data": {
      "text/plain": [
       "2679380985168"
      ]
     },
     "execution_count": 16,
     "metadata": {},
     "output_type": "execute_result"
    }
   ],
   "source": [
    "id(India)"
   ]
  },
  {
   "cell_type": "code",
   "execution_count": 23,
   "metadata": {},
   "outputs": [
    {
     "name": "stdout",
     "output_type": "stream",
     "text": [
      "Accomodation is available\n"
     ]
    },
    {
     "data": {
      "text/plain": [
       "2679381661584"
      ]
     },
     "execution_count": 23,
     "metadata": {},
     "output_type": "execute_result"
    }
   ],
   "source": [
    "Burj_Khalifa.accomodation(Singapore)\n",
    "id(Singapore)"
   ]
  },
  {
   "cell_type": "code",
   "execution_count": 24,
   "metadata": {},
   "outputs": [
    {
     "name": "stdout",
     "output_type": "stream",
     "text": [
      "Accomodation is available\n"
     ]
    },
    {
     "data": {
      "text/plain": [
       "2679380985168"
      ]
     },
     "execution_count": 24,
     "metadata": {},
     "output_type": "execute_result"
    }
   ],
   "source": [
    "Burj_Khalifa.accomodation(India)\n",
    "id(India)"
   ]
  },
  {
   "cell_type": "code",
   "execution_count": 25,
   "metadata": {},
   "outputs": [],
   "source": [
    "class Burj_Khalifa:   # class name \n",
    "    def __init__(krishna):  # __init__() is the constructor \n",
    "        #instance variable also known as attributes\n",
    "        krishna.height=828\n",
    "        krishna.location=\"Dubai\"\n",
    "        krishna.lift=2\n",
    "        krishna.room=1000\n",
    "        print(\"class krishna :\",id(krishna))    \n",
    "    # features/method--> when introduced function inside a class called methods\n",
    "    def accomodation(krishna):\n",
    "        print(\"Accomodation is available\")\n",
    "    \n",
    "    def parking(krishna):\n",
    "        print(\"provide us parking for our vehicles\")"
   ]
  },
  {
   "cell_type": "code",
   "execution_count": 26,
   "metadata": {},
   "outputs": [
    {
     "name": "stdout",
     "output_type": "stream",
     "text": [
      "class krishna : 2679382397136\n"
     ]
    }
   ],
   "source": [
    "India=Burj_Khalifa()"
   ]
  },
  {
   "cell_type": "code",
   "execution_count": 27,
   "metadata": {},
   "outputs": [
    {
     "name": "stdout",
     "output_type": "stream",
     "text": [
      "Accomodation is available\n"
     ]
    }
   ],
   "source": [
    "India.accomodation()"
   ]
  },
  {
   "cell_type": "code",
   "execution_count": null,
   "metadata": {},
   "outputs": [],
   "source": []
  }
 ],
 "metadata": {
  "kernelspec": {
   "display_name": "Python 3 (ipykernel)",
   "language": "python",
   "name": "python3"
  },
  "language_info": {
   "codemirror_mode": {
    "name": "ipython",
    "version": 3
   },
   "file_extension": ".py",
   "mimetype": "text/x-python",
   "name": "python",
   "nbconvert_exporter": "python",
   "pygments_lexer": "ipython3",
   "version": "3.11.3"
  }
 },
 "nbformat": 4,
 "nbformat_minor": 4
}
